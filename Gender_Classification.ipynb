{
  "nbformat": 4,
  "nbformat_minor": 0,
  "metadata": {
    "colab": {
      "name": "Gender_Classification.ipynb",
      "provenance": [],
      "collapsed_sections": [],
      "authorship_tag": "ABX9TyM+ycY3g3Vs2GtDHavIqrlv"
    },
    "kernelspec": {
      "name": "python3",
      "display_name": "Python 3"
    },
    "language_info": {
      "name": "python"
    },
    "accelerator": "GPU"
  },
  "cells": [
    {
      "cell_type": "code",
      "metadata": {
        "id": "G52RCvjrZIXm"
      },
      "source": [
        "import pandas as pd\n",
        "import numpy as np\n",
        "\n",
        "import torch\n",
        "import torch.nn as nn\n",
        "from torch.utils.data import Dataset, DataLoader"
      ],
      "execution_count": 100,
      "outputs": []
    },
    {
      "cell_type": "code",
      "metadata": {
        "id": "LgS-H-3HZVbI"
      },
      "source": [
        "girl_name = pd.read_csv(\"girl_name.csv\")\n",
        "boy_name = pd.read_csv(\"boy_name.csv\")"
      ],
      "execution_count": 101,
      "outputs": []
    },
    {
      "cell_type": "code",
      "metadata": {
        "colab": {
          "base_uri": "https://localhost:8080/",
          "height": 204
        },
        "id": "c-7lHItZSRFT",
        "outputId": "eb059490-2311-4b26-fcc4-1d46c7ebf3d3"
      },
      "source": [
        "girl_name.head()"
      ],
      "execution_count": 102,
      "outputs": [
        {
          "output_type": "execute_result",
          "data": {
            "text/html": [
              "<div>\n",
              "<style scoped>\n",
              "    .dataframe tbody tr th:only-of-type {\n",
              "        vertical-align: middle;\n",
              "    }\n",
              "\n",
              "    .dataframe tbody tr th {\n",
              "        vertical-align: top;\n",
              "    }\n",
              "\n",
              "    .dataframe thead th {\n",
              "        text-align: right;\n",
              "    }\n",
              "</style>\n",
              "<table border=\"1\" class=\"dataframe\">\n",
              "  <thead>\n",
              "    <tr style=\"text-align: right;\">\n",
              "      <th></th>\n",
              "      <th>name</th>\n",
              "    </tr>\n",
              "  </thead>\n",
              "  <tbody>\n",
              "    <tr>\n",
              "      <th>0</th>\n",
              "      <td>Olivia</td>\n",
              "    </tr>\n",
              "    <tr>\n",
              "      <th>1</th>\n",
              "      <td>Emma</td>\n",
              "    </tr>\n",
              "    <tr>\n",
              "      <th>2</th>\n",
              "      <td>Ava</td>\n",
              "    </tr>\n",
              "    <tr>\n",
              "      <th>3</th>\n",
              "      <td>Sophia</td>\n",
              "    </tr>\n",
              "    <tr>\n",
              "      <th>4</th>\n",
              "      <td>Isabella</td>\n",
              "    </tr>\n",
              "  </tbody>\n",
              "</table>\n",
              "</div>"
            ],
            "text/plain": [
              "       name\n",
              "0    Olivia\n",
              "1      Emma\n",
              "2       Ava\n",
              "3    Sophia\n",
              "4  Isabella"
            ]
          },
          "metadata": {
            "tags": []
          },
          "execution_count": 102
        }
      ]
    },
    {
      "cell_type": "code",
      "metadata": {
        "colab": {
          "base_uri": "https://localhost:8080/",
          "height": 204
        },
        "id": "EtvcS6FLSVim",
        "outputId": "5d5f01ad-3db5-40c2-cd04-cb9d5ddd3b76"
      },
      "source": [
        "boy_name.head()"
      ],
      "execution_count": 68,
      "outputs": [
        {
          "output_type": "execute_result",
          "data": {
            "text/html": [
              "<div>\n",
              "<style scoped>\n",
              "    .dataframe tbody tr th:only-of-type {\n",
              "        vertical-align: middle;\n",
              "    }\n",
              "\n",
              "    .dataframe tbody tr th {\n",
              "        vertical-align: top;\n",
              "    }\n",
              "\n",
              "    .dataframe thead th {\n",
              "        text-align: right;\n",
              "    }\n",
              "</style>\n",
              "<table border=\"1\" class=\"dataframe\">\n",
              "  <thead>\n",
              "    <tr style=\"text-align: right;\">\n",
              "      <th></th>\n",
              "      <th>name</th>\n",
              "    </tr>\n",
              "  </thead>\n",
              "  <tbody>\n",
              "    <tr>\n",
              "      <th>0</th>\n",
              "      <td>Liam</td>\n",
              "    </tr>\n",
              "    <tr>\n",
              "      <th>1</th>\n",
              "      <td>Noah</td>\n",
              "    </tr>\n",
              "    <tr>\n",
              "      <th>2</th>\n",
              "      <td>Oliver</td>\n",
              "    </tr>\n",
              "    <tr>\n",
              "      <th>3</th>\n",
              "      <td>Elijah</td>\n",
              "    </tr>\n",
              "    <tr>\n",
              "      <th>4</th>\n",
              "      <td>William</td>\n",
              "    </tr>\n",
              "  </tbody>\n",
              "</table>\n",
              "</div>"
            ],
            "text/plain": [
              "      name\n",
              "0     Liam\n",
              "1     Noah\n",
              "2   Oliver\n",
              "3   Elijah\n",
              "4  William"
            ]
          },
          "metadata": {
            "tags": []
          },
          "execution_count": 68
        }
      ]
    },
    {
      "cell_type": "code",
      "metadata": {
        "id": "d7w9JqbRZgT0"
      },
      "source": [
        "# Labeling girl ->0, boy -> 1\n",
        "girl_name['gender'] = [0]*len(girl_name)\n",
        "boy_name['gender'] = [1]*len(boy_name)"
      ],
      "execution_count": 69,
      "outputs": []
    },
    {
      "cell_type": "code",
      "metadata": {
        "id": "RWL4JyO5ZZo-"
      },
      "source": [
        "data = pd.concat([girl_name, boy_name])"
      ],
      "execution_count": 70,
      "outputs": []
    },
    {
      "cell_type": "code",
      "metadata": {
        "id": "GWagZTIdawox"
      },
      "source": [
        "class Name_Dataset(Dataset):\n",
        "    def __init__(self, data):\n",
        "        super().__init__()\n",
        "        self.data = data.sample(frac=1).reset_index(drop=True)\n",
        "    \n",
        "    def __len__(self):\n",
        "        return len(self.data)\n",
        "\n",
        "    def __getitem__(self, idx):\n",
        "        a = self.data['name'].loc[idx].lower()\n",
        "        n = np.array([np.eye(26)[ord(x)-0x61] for x in a])\n",
        "        \n",
        "        y = self.data['gender'].loc[idx]\n",
        "\n",
        "        return torch.Tensor(n), torch.FloatTensor([y])"
      ],
      "execution_count": 103,
      "outputs": []
    },
    {
      "cell_type": "code",
      "metadata": {
        "id": "A2Byd_CTaFL0"
      },
      "source": [
        "dataset = Name_Dataset(data)\n",
        "dataloader = DataLoader(dataset=dataset,\n",
        "                        batch_size=1,\n",
        "                        shuffle=True,\n",
        "                        num_workers=2)"
      ],
      "execution_count": 104,
      "outputs": []
    },
    {
      "cell_type": "code",
      "metadata": {
        "id": "ylr0MPxxhUpd"
      },
      "source": [
        "class Model(nn.Module):\n",
        "    def __init__(self):\n",
        "        super().__init__() \n",
        "        self.rnn = nn.RNN(input_size=26, hidden_size=32, num_layers=1)\n",
        "        self.linear = nn.Linear(32, 1)\n",
        "        self.sigmoid = nn.Sigmoid()\n",
        "    def forward(self, x):\n",
        "        out = self.rnn(x)[0][:, -1, :] \n",
        "        return self.sigmoid(self.linear(out))"
      ],
      "execution_count": 105,
      "outputs": []
    },
    {
      "cell_type": "code",
      "metadata": {
        "id": "Fae4woYodYJs"
      },
      "source": [
        "model = Model().cuda()\n",
        "loss_func = nn.BCELoss()\n",
        "optimizer = torch.optim.Adam(model.parameters(), lr=0.001)"
      ],
      "execution_count": 107,
      "outputs": []
    },
    {
      "cell_type": "code",
      "metadata": {
        "colab": {
          "base_uri": "https://localhost:8080/"
        },
        "id": "UqEsoXQ6eoLC",
        "outputId": "348c48d9-344e-4a2a-fc92-f1a9a14bb156"
      },
      "source": [
        "total_epochs = 3\n",
        "for epoch in range(total_epochs):\n",
        "    success = 0\n",
        "    loss_tot = []\n",
        "    for X, y in dataloader:\n",
        "        X = X.cuda()\n",
        "        y_pred = model(X)\n",
        "        y = y.cuda()\n",
        "        loss = loss_func(y_pred, y)\n",
        "\n",
        "        optimizer.zero_grad()\n",
        "        loss.backward()\n",
        "        optimizer.step()\n",
        "\n",
        "        y_pred[y_pred > 0.5] = 1\n",
        "        y_pred[y_pred < 0.5] = 0\n",
        "        success += (y_pred == y).sum()\n",
        "        \n",
        "        loss_tot.append(loss.item())\n",
        "    \n",
        "    if epoch % 1 == 0:\n",
        "        print(f'Epoch: {epoch}, Train Loss: {np.array(loss_tot).mean():.3f}, Train Accuracy: {success/2000:.3f}')"
      ],
      "execution_count": 108,
      "outputs": [
        {
          "output_type": "stream",
          "text": [
            "Epoch: 0, Train Loss: 0.551, Train Accuracy: 0.739\n",
            "Epoch: 1, Train Loss: 0.502, Train Accuracy: 0.765\n",
            "Epoch: 2, Train Loss: 0.498, Train Accuracy: 0.764\n"
          ],
          "name": "stdout"
        }
      ]
    },
    {
      "cell_type": "code",
      "metadata": {
        "id": "cb1YoPA3HXxY"
      },
      "source": [
        "def predict(name):\n",
        "    a = name.lower()\n",
        "    n = np.array([[np.eye(26)[ord(x)-0x61] for x in a]])\n",
        "    X = torch.Tensor(n)\n",
        "    y_pred = model(X.cuda())\n",
        "    if y_pred < 0.5:\n",
        "        print(f'{name} should be a girl!')\n",
        "    else:\n",
        "        print(f'{name} should be a boy!')"
      ],
      "execution_count": 109,
      "outputs": []
    },
    {
      "cell_type": "code",
      "metadata": {
        "colab": {
          "base_uri": "https://localhost:8080/"
        },
        "id": "5_U4gHa2T75c",
        "outputId": "b3e2e54c-0855-4e22-a648-94bc00a9c799"
      },
      "source": [
        "predict('Ron')"
      ],
      "execution_count": 115,
      "outputs": [
        {
          "output_type": "stream",
          "text": [
            "Ron should be a boy!\n"
          ],
          "name": "stdout"
        }
      ]
    }
  ]
}